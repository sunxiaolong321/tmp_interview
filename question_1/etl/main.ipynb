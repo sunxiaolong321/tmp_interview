{
 "cells": [
  {
   "cell_type": "code",
   "execution_count": 1,
   "id": "initial_id",
   "metadata": {
    "collapsed": true,
    "ExecuteTime": {
     "end_time": "2023-10-24T17:03:52.157248100Z",
     "start_time": "2023-10-24T17:03:51.715388800Z"
    }
   },
   "outputs": [],
   "source": [
    "import pandas as pd"
   ]
  },
  {
   "cell_type": "markdown",
   "source": [
    "1.校验csv文件名称中提取的store_code是否满足:”JD_数字“的格式"
   ],
   "metadata": {
    "collapsed": false
   },
   "id": "b22f35e339f2aa64"
  },
  {
   "cell_type": "code",
   "execution_count": 15,
   "outputs": [
    {
     "name": "stdout",
     "output_type": "stream",
     "text": [
      "JD_00001_导出SPU_2023_09_12_0.csv符合条件\n",
      "JD_00001_导出SPU_2023_09_13.csv符合条件\n",
      "XD_00001_导出.csv不符合条件\n"
     ]
    }
   ],
   "source": [
    "import re\n",
    "import os\n",
    "\n",
    "for filename in os.listdir(\"./item\"):\n",
    "    if filename.endswith(\".csv\"):\n",
    "        if re.match(\"^JD_(\\d+)_(.*?).csv$\", filename):\n",
    "            print(f\"{filename}符合条件\")\n",
    "        else:\n",
    "            print(f\"{filename}不符合条件\")\n"
   ],
   "metadata": {
    "collapsed": false,
    "ExecuteTime": {
     "end_time": "2023-10-24T17:17:53.784727600Z",
     "start_time": "2023-10-24T17:17:53.767082100Z"
    }
   },
   "id": "de96f568b5445bee"
  },
  {
   "cell_type": "code",
   "execution_count": 4,
   "outputs": [
    {
     "data": {
      "text/plain": "        商品编码                              商品名称               京东分类        品牌  \\\n2  198950342  耐克（NIKE）男士防滑运动训练跑步鞋透气吸汗缓震轻便休闲慢跑鞋  运动户外 > 运动鞋包 > 跑步鞋  耐克（NIKE）   \n\n      运费模板      商品货号     成本价     市场价   京东价   库存  ...  默认好评数      好评率  \\\n2  未选择运费模板  02FE52D0  1575.1  2487.0  1658  102  ...      0  100.00%   \n\n   中评数（3星，2星）    中评率  差评数（1星）    差评率  晒单数  追评数     无理由退货  是否指定快递配送  \n2      0(0,0)  0.00%        0  0.00%    0    0  不支持无理由退货         否  \n\n[1 rows x 52 columns]",
      "text/html": "<div>\n<style scoped>\n    .dataframe tbody tr th:only-of-type {\n        vertical-align: middle;\n    }\n\n    .dataframe tbody tr th {\n        vertical-align: top;\n    }\n\n    .dataframe thead th {\n        text-align: right;\n    }\n</style>\n<table border=\"1\" class=\"dataframe\">\n  <thead>\n    <tr style=\"text-align: right;\">\n      <th></th>\n      <th>商品编码</th>\n      <th>商品名称</th>\n      <th>京东分类</th>\n      <th>品牌</th>\n      <th>运费模板</th>\n      <th>商品货号</th>\n      <th>成本价</th>\n      <th>市场价</th>\n      <th>京东价</th>\n      <th>库存</th>\n      <th>...</th>\n      <th>默认好评数</th>\n      <th>好评率</th>\n      <th>中评数（3星，2星）</th>\n      <th>中评率</th>\n      <th>差评数（1星）</th>\n      <th>差评率</th>\n      <th>晒单数</th>\n      <th>追评数</th>\n      <th>无理由退货</th>\n      <th>是否指定快递配送</th>\n    </tr>\n  </thead>\n  <tbody>\n    <tr>\n      <th>2</th>\n      <td>198950342</td>\n      <td>耐克（NIKE）男士防滑运动训练跑步鞋透气吸汗缓震轻便休闲慢跑鞋</td>\n      <td>运动户外 &gt; 运动鞋包 &gt; 跑步鞋</td>\n      <td>耐克（NIKE）</td>\n      <td>未选择运费模板</td>\n      <td>02FE52D0</td>\n      <td>1575.1</td>\n      <td>2487.0</td>\n      <td>1658</td>\n      <td>102</td>\n      <td>...</td>\n      <td>0</td>\n      <td>100.00%</td>\n      <td>0(0,0)</td>\n      <td>0.00%</td>\n      <td>0</td>\n      <td>0.00%</td>\n      <td>0</td>\n      <td>0</td>\n      <td>不支持无理由退货</td>\n      <td>否</td>\n    </tr>\n  </tbody>\n</table>\n<p>1 rows × 52 columns</p>\n</div>"
     },
     "execution_count": 4,
     "metadata": {},
     "output_type": "execute_result"
    }
   ],
   "source": [
    "# 读取文件\n",
    "data_1 = pd.read_csv('./item/JD_00001_导出SPU_2023_09_12_0.csv', encoding='gbk')\n",
    "\n",
    "data_1.sample()"
   ],
   "metadata": {
    "collapsed": false,
    "ExecuteTime": {
     "end_time": "2023-10-24T17:07:34.312243600Z",
     "start_time": "2023-10-24T17:07:34.271470600Z"
    }
   },
   "id": "53304a7cd9fdedcb"
  },
  {
   "cell_type": "code",
   "execution_count": 7,
   "outputs": [
    {
     "data": {
      "text/plain": "                  ��������         Ʒ��      �˷�ģ��   ��Ʒ����    �ɱ���   �г���  \\\n0  �˶����� > �˶�Ь�� > �ܲ�Ь  �Ϳˣ�NIKE��  δѡ���˷�ģ��  02FE5BBA  1382.25  2182.5   \n\n   ������  ���  ë�أ�kg��  ���ڷ���  ...  Ĭ�Ϻ�����  ������.2  ��������3�ǣ�2�ǣ�  \\\n0    1455    4         2  �Ϳ�-��ʿ  ...         0   100.00%            0(0,0)   \n\n   ������.3  ��������1�ǣ�  ������.4  ɹ����  ׷����       �������˻�  \\\n0     0.00%             0     0.00%      0      0  ��֧���������˻�   \n\n  �Ƿ�ָ���������  \n0            ��  \n\n[1 rows x 50 columns]",
      "text/html": "<div>\n<style scoped>\n    .dataframe tbody tr th:only-of-type {\n        vertical-align: middle;\n    }\n\n    .dataframe tbody tr th {\n        vertical-align: top;\n    }\n\n    .dataframe thead th {\n        text-align: right;\n    }\n</style>\n<table border=\"1\" class=\"dataframe\">\n  <thead>\n    <tr style=\"text-align: right;\">\n      <th></th>\n      <th>��������</th>\n      <th>Ʒ��</th>\n      <th>�˷�ģ��</th>\n      <th>��Ʒ����</th>\n      <th>�ɱ���</th>\n      <th>�г���</th>\n      <th>������</th>\n      <th>���</th>\n      <th>ë�أ�kg��</th>\n      <th>���ڷ���</th>\n      <th>...</th>\n      <th>Ĭ�Ϻ�����</th>\n      <th>������.2</th>\n      <th>��������3�ǣ�2�ǣ�</th>\n      <th>������.3</th>\n      <th>��������1�ǣ�</th>\n      <th>������.4</th>\n      <th>ɹ����</th>\n      <th>׷����</th>\n      <th>�������˻�</th>\n      <th>�Ƿ�ָ���������</th>\n    </tr>\n  </thead>\n  <tbody>\n    <tr>\n      <th>0</th>\n      <td>�˶����� &gt; �˶�Ь�� &gt; �ܲ�Ь</td>\n      <td>�Ϳˣ�NIKE��</td>\n      <td>δѡ���˷�ģ��</td>\n      <td>02FE5BBA</td>\n      <td>1382.25</td>\n      <td>2182.5</td>\n      <td>1455</td>\n      <td>4</td>\n      <td>2</td>\n      <td>�Ϳ�-��ʿ</td>\n      <td>...</td>\n      <td>0</td>\n      <td>100.00%</td>\n      <td>0(0,0)</td>\n      <td>0.00%</td>\n      <td>0</td>\n      <td>0.00%</td>\n      <td>0</td>\n      <td>0</td>\n      <td>��֧���������˻�</td>\n      <td>��</td>\n    </tr>\n  </tbody>\n</table>\n<p>1 rows × 50 columns</p>\n</div>"
     },
     "execution_count": 7,
     "metadata": {},
     "output_type": "execute_result"
    }
   ],
   "source": [
    "# 这个文件坏了\n",
    "data_2 = pd.read_csv('./item/JD_00001_导出SPU_2023_09_13.csv', encoding='utf-8')\n",
    "data_2.sample()"
   ],
   "metadata": {
    "collapsed": false,
    "ExecuteTime": {
     "end_time": "2023-10-24T17:09:45.741636200Z",
     "start_time": "2023-10-24T17:09:45.721111900Z"
    }
   },
   "id": "d5907eaebb3e5f72"
  },
  {
   "cell_type": "code",
   "execution_count": 11,
   "outputs": [
    {
     "data": {
      "text/plain": "        商品编码                              商品名称               京东分类        品牌  \\\n3  198950847  耐克（NIKE）减震运动鞋跑步鞋男子徒步防滑学生鞋轻便透气旅游鞋  运动户外 > 运动鞋包 > 跑步鞋  耐克（NIKE）   \n\n      运费模板      商品货号      成本价     市场价   京东价  库存  ...  默认好评数      好评率  \\\n3  未选择运费模板  02FE5B6C  4011.85  6334.5  4223  16  ...      0  100.00%   \n\n   中评数（3星，2星）    中评率  差评数（1星）    差评率  晒单数  追评数     无理由退货  是否指定快递配送  \n3      0(0,0)  0.00%        0  0.00%    0    0  不支持无理由退货         否  \n\n[1 rows x 52 columns]",
      "text/html": "<div>\n<style scoped>\n    .dataframe tbody tr th:only-of-type {\n        vertical-align: middle;\n    }\n\n    .dataframe tbody tr th {\n        vertical-align: top;\n    }\n\n    .dataframe thead th {\n        text-align: right;\n    }\n</style>\n<table border=\"1\" class=\"dataframe\">\n  <thead>\n    <tr style=\"text-align: right;\">\n      <th></th>\n      <th>商品编码</th>\n      <th>商品名称</th>\n      <th>京东分类</th>\n      <th>品牌</th>\n      <th>运费模板</th>\n      <th>商品货号</th>\n      <th>成本价</th>\n      <th>市场价</th>\n      <th>京东价</th>\n      <th>库存</th>\n      <th>...</th>\n      <th>默认好评数</th>\n      <th>好评率</th>\n      <th>中评数（3星，2星）</th>\n      <th>中评率</th>\n      <th>差评数（1星）</th>\n      <th>差评率</th>\n      <th>晒单数</th>\n      <th>追评数</th>\n      <th>无理由退货</th>\n      <th>是否指定快递配送</th>\n    </tr>\n  </thead>\n  <tbody>\n    <tr>\n      <th>3</th>\n      <td>198950847</td>\n      <td>耐克（NIKE）减震运动鞋跑步鞋男子徒步防滑学生鞋轻便透气旅游鞋</td>\n      <td>运动户外 &gt; 运动鞋包 &gt; 跑步鞋</td>\n      <td>耐克（NIKE）</td>\n      <td>未选择运费模板</td>\n      <td>02FE5B6C</td>\n      <td>4011.85</td>\n      <td>6334.5</td>\n      <td>4223</td>\n      <td>16</td>\n      <td>...</td>\n      <td>0</td>\n      <td>100.00%</td>\n      <td>0(0,0)</td>\n      <td>0.00%</td>\n      <td>0</td>\n      <td>0.00%</td>\n      <td>0</td>\n      <td>0</td>\n      <td>不支持无理由退货</td>\n      <td>否</td>\n    </tr>\n  </tbody>\n</table>\n<p>1 rows × 52 columns</p>\n</div>"
     },
     "execution_count": 11,
     "metadata": {},
     "output_type": "execute_result"
    }
   ],
   "source": [
    "data_3 = pd.read_csv('./item/XD_00001_导出.csv', encoding='gbk')\n",
    "data_3.sample()"
   ],
   "metadata": {
    "collapsed": false,
    "ExecuteTime": {
     "end_time": "2023-10-24T17:10:21.595001500Z",
     "start_time": "2023-10-24T17:10:21.565208800Z"
    }
   },
   "id": "164f56b3e59fa6eb"
  },
  {
   "cell_type": "markdown",
   "source": [
    "2. 校验csv文件是否包含配置文件中指定的所有列(csv文件列)，如果没有报错，并打印缺少的列名"
   ],
   "metadata": {
    "collapsed": false
   },
   "id": "d5ec4a250c3e7652"
  },
  {
   "cell_type": "code",
   "execution_count": 16,
   "outputs": [],
   "source": [
    "# 读取.properties配置文件\n",
    "with open(\"./item/column_mapping.propties\", \"r\", encoding=\"utf-8\") as f:\n",
    "    property_list = {data.split(\"=\")[0]: data.split(\"=\")[1] for data in f.read().split(\"\\n\")}\n"
   ],
   "metadata": {
    "collapsed": false,
    "ExecuteTime": {
     "end_time": "2023-10-24T17:25:59.859396900Z",
     "start_time": "2023-10-24T17:25:59.821664700Z"
    }
   },
   "id": "6f324d8eb9ea6c83"
  },
  {
   "cell_type": "code",
   "execution_count": 26,
   "outputs": [
    {
     "name": "stdout",
     "output_type": "stream",
     "text": [
      "JD_00001_导出SPU_2023_09_12_0.csv所有列都在文件内\n",
      "XD_00001_导出.csv所有列都在文件内\n"
     ]
    }
   ],
   "source": [
    "# 检查第一个文件\n",
    "for filename in os.listdir(\"./item\"):\n",
    "    if not filename.endswith(\".csv\") or filename == \"JD_00001_导出SPU_2023_09_13.csv\":\n",
    "        continue\n",
    "    tmp_data = pd.read_csv(f'./item/{filename}', encoding='gbk')\n",
    "    result = list(filter(lambda x: x not in tmp_data.columns, property_list.keys()))\n",
    "    if len(result) > 0:\n",
    "        print(f\"{filename}存在{len(result)}列不在数据内，数据是：{','.join([property_list['r'] for r in result])}\")\n",
    "    else:\n",
    "        print(f\"{filename}所有列都在文件内\")\n"
   ],
   "metadata": {
    "collapsed": false,
    "ExecuteTime": {
     "end_time": "2023-10-24T17:33:18.288373900Z",
     "start_time": "2023-10-24T17:33:18.243794500Z"
    }
   },
   "id": "c438a2fe624f66d7"
  },
  {
   "cell_type": "markdown",
   "source": [
    "3. 根据配置文件中配置的映射将csv中的每一行转换为insert语句(注意将store_code一列也加入)，并存入sqlite3数据库，数据库表名为items，根据实际设计表\n"
   ],
   "metadata": {
    "collapsed": false
   },
   "id": "ed10dbd24e2f26fc"
  },
  {
   "cell_type": "code",
   "execution_count": 32,
   "outputs": [
    {
     "ename": "ValueError",
     "evalue": "Table 'items' already exists.",
     "output_type": "error",
     "traceback": [
      "\u001B[1;31m---------------------------------------------------------------------------\u001B[0m",
      "\u001B[1;31mValueError\u001B[0m                                Traceback (most recent call last)",
      "Cell \u001B[1;32mIn[32], line 6\u001B[0m\n\u001B[0;32m      3\u001B[0m engine \u001B[38;5;241m=\u001B[39m create_engine(\u001B[38;5;124m'\u001B[39m\u001B[38;5;124msqlite:///./database.db\u001B[39m\u001B[38;5;124m'\u001B[39m, echo\u001B[38;5;241m=\u001B[39m\u001B[38;5;28;01mFalse\u001B[39;00m)\n\u001B[0;32m      5\u001B[0m \u001B[38;5;28;01mwith\u001B[39;00m engine\u001B[38;5;241m.\u001B[39mconnect() \u001B[38;5;28;01mas\u001B[39;00m conn:\n\u001B[1;32m----> 6\u001B[0m     \u001B[43mdata_1\u001B[49m\u001B[38;5;241;43m.\u001B[39;49m\u001B[43mto_sql\u001B[49m\u001B[43m(\u001B[49m\u001B[43mname\u001B[49m\u001B[38;5;241;43m=\u001B[39;49m\u001B[38;5;124;43m'\u001B[39;49m\u001B[38;5;124;43mitems\u001B[39;49m\u001B[38;5;124;43m'\u001B[39;49m\u001B[43m,\u001B[49m\u001B[43m \u001B[49m\u001B[43mcon\u001B[49m\u001B[38;5;241;43m=\u001B[39;49m\u001B[43mconn\u001B[49m\u001B[43m)\u001B[49m\n",
      "File \u001B[1;32mD:\\Software\\miniconda3\\envs\\demo\\lib\\site-packages\\pandas\\util\\_decorators.py:333\u001B[0m, in \u001B[0;36mdeprecate_nonkeyword_arguments.<locals>.decorate.<locals>.wrapper\u001B[1;34m(*args, **kwargs)\u001B[0m\n\u001B[0;32m    327\u001B[0m \u001B[38;5;28;01mif\u001B[39;00m \u001B[38;5;28mlen\u001B[39m(args) \u001B[38;5;241m>\u001B[39m num_allow_args:\n\u001B[0;32m    328\u001B[0m     warnings\u001B[38;5;241m.\u001B[39mwarn(\n\u001B[0;32m    329\u001B[0m         msg\u001B[38;5;241m.\u001B[39mformat(arguments\u001B[38;5;241m=\u001B[39m_format_argument_list(allow_args)),\n\u001B[0;32m    330\u001B[0m         \u001B[38;5;167;01mFutureWarning\u001B[39;00m,\n\u001B[0;32m    331\u001B[0m         stacklevel\u001B[38;5;241m=\u001B[39mfind_stack_level(),\n\u001B[0;32m    332\u001B[0m     )\n\u001B[1;32m--> 333\u001B[0m \u001B[38;5;28;01mreturn\u001B[39;00m func(\u001B[38;5;241m*\u001B[39margs, \u001B[38;5;241m*\u001B[39m\u001B[38;5;241m*\u001B[39mkwargs)\n",
      "File \u001B[1;32mD:\\Software\\miniconda3\\envs\\demo\\lib\\site-packages\\pandas\\core\\generic.py:3008\u001B[0m, in \u001B[0;36mNDFrame.to_sql\u001B[1;34m(self, name, con, schema, if_exists, index, index_label, chunksize, dtype, method)\u001B[0m\n\u001B[0;32m   2813\u001B[0m \u001B[38;5;250m\u001B[39m\u001B[38;5;124;03m\"\"\"\u001B[39;00m\n\u001B[0;32m   2814\u001B[0m \u001B[38;5;124;03mWrite records stored in a DataFrame to a SQL database.\u001B[39;00m\n\u001B[0;32m   2815\u001B[0m \n\u001B[1;32m   (...)\u001B[0m\n\u001B[0;32m   3004\u001B[0m \u001B[38;5;124;03m[(1,), (None,), (2,)]\u001B[39;00m\n\u001B[0;32m   3005\u001B[0m \u001B[38;5;124;03m\"\"\"\u001B[39;00m  \u001B[38;5;66;03m# noqa: E501\u001B[39;00m\n\u001B[0;32m   3006\u001B[0m \u001B[38;5;28;01mfrom\u001B[39;00m \u001B[38;5;21;01mpandas\u001B[39;00m\u001B[38;5;21;01m.\u001B[39;00m\u001B[38;5;21;01mio\u001B[39;00m \u001B[38;5;28;01mimport\u001B[39;00m sql\n\u001B[1;32m-> 3008\u001B[0m \u001B[38;5;28;01mreturn\u001B[39;00m \u001B[43msql\u001B[49m\u001B[38;5;241;43m.\u001B[39;49m\u001B[43mto_sql\u001B[49m\u001B[43m(\u001B[49m\n\u001B[0;32m   3009\u001B[0m \u001B[43m    \u001B[49m\u001B[38;5;28;43mself\u001B[39;49m\u001B[43m,\u001B[49m\n\u001B[0;32m   3010\u001B[0m \u001B[43m    \u001B[49m\u001B[43mname\u001B[49m\u001B[43m,\u001B[49m\n\u001B[0;32m   3011\u001B[0m \u001B[43m    \u001B[49m\u001B[43mcon\u001B[49m\u001B[43m,\u001B[49m\n\u001B[0;32m   3012\u001B[0m \u001B[43m    \u001B[49m\u001B[43mschema\u001B[49m\u001B[38;5;241;43m=\u001B[39;49m\u001B[43mschema\u001B[49m\u001B[43m,\u001B[49m\n\u001B[0;32m   3013\u001B[0m \u001B[43m    \u001B[49m\u001B[43mif_exists\u001B[49m\u001B[38;5;241;43m=\u001B[39;49m\u001B[43mif_exists\u001B[49m\u001B[43m,\u001B[49m\n\u001B[0;32m   3014\u001B[0m \u001B[43m    \u001B[49m\u001B[43mindex\u001B[49m\u001B[38;5;241;43m=\u001B[39;49m\u001B[43mindex\u001B[49m\u001B[43m,\u001B[49m\n\u001B[0;32m   3015\u001B[0m \u001B[43m    \u001B[49m\u001B[43mindex_label\u001B[49m\u001B[38;5;241;43m=\u001B[39;49m\u001B[43mindex_label\u001B[49m\u001B[43m,\u001B[49m\n\u001B[0;32m   3016\u001B[0m \u001B[43m    \u001B[49m\u001B[43mchunksize\u001B[49m\u001B[38;5;241;43m=\u001B[39;49m\u001B[43mchunksize\u001B[49m\u001B[43m,\u001B[49m\n\u001B[0;32m   3017\u001B[0m \u001B[43m    \u001B[49m\u001B[43mdtype\u001B[49m\u001B[38;5;241;43m=\u001B[39;49m\u001B[43mdtype\u001B[49m\u001B[43m,\u001B[49m\n\u001B[0;32m   3018\u001B[0m \u001B[43m    \u001B[49m\u001B[43mmethod\u001B[49m\u001B[38;5;241;43m=\u001B[39;49m\u001B[43mmethod\u001B[49m\u001B[43m,\u001B[49m\n\u001B[0;32m   3019\u001B[0m \u001B[43m\u001B[49m\u001B[43m)\u001B[49m\n",
      "File \u001B[1;32mD:\\Software\\miniconda3\\envs\\demo\\lib\\site-packages\\pandas\\io\\sql.py:788\u001B[0m, in \u001B[0;36mto_sql\u001B[1;34m(frame, name, con, schema, if_exists, index, index_label, chunksize, dtype, method, engine, **engine_kwargs)\u001B[0m\n\u001B[0;32m    783\u001B[0m     \u001B[38;5;28;01mraise\u001B[39;00m \u001B[38;5;167;01mNotImplementedError\u001B[39;00m(\n\u001B[0;32m    784\u001B[0m         \u001B[38;5;124m\"\u001B[39m\u001B[38;5;124m'\u001B[39m\u001B[38;5;124mframe\u001B[39m\u001B[38;5;124m'\u001B[39m\u001B[38;5;124m argument should be either a Series or a DataFrame\u001B[39m\u001B[38;5;124m\"\u001B[39m\n\u001B[0;32m    785\u001B[0m     )\n\u001B[0;32m    787\u001B[0m \u001B[38;5;28;01mwith\u001B[39;00m pandasSQL_builder(con, schema\u001B[38;5;241m=\u001B[39mschema, need_transaction\u001B[38;5;241m=\u001B[39m\u001B[38;5;28;01mTrue\u001B[39;00m) \u001B[38;5;28;01mas\u001B[39;00m pandas_sql:\n\u001B[1;32m--> 788\u001B[0m     \u001B[38;5;28;01mreturn\u001B[39;00m pandas_sql\u001B[38;5;241m.\u001B[39mto_sql(\n\u001B[0;32m    789\u001B[0m         frame,\n\u001B[0;32m    790\u001B[0m         name,\n\u001B[0;32m    791\u001B[0m         if_exists\u001B[38;5;241m=\u001B[39mif_exists,\n\u001B[0;32m    792\u001B[0m         index\u001B[38;5;241m=\u001B[39mindex,\n\u001B[0;32m    793\u001B[0m         index_label\u001B[38;5;241m=\u001B[39mindex_label,\n\u001B[0;32m    794\u001B[0m         schema\u001B[38;5;241m=\u001B[39mschema,\n\u001B[0;32m    795\u001B[0m         chunksize\u001B[38;5;241m=\u001B[39mchunksize,\n\u001B[0;32m    796\u001B[0m         dtype\u001B[38;5;241m=\u001B[39mdtype,\n\u001B[0;32m    797\u001B[0m         method\u001B[38;5;241m=\u001B[39mmethod,\n\u001B[0;32m    798\u001B[0m         engine\u001B[38;5;241m=\u001B[39mengine,\n\u001B[0;32m    799\u001B[0m         \u001B[38;5;241m*\u001B[39m\u001B[38;5;241m*\u001B[39mengine_kwargs,\n\u001B[0;32m    800\u001B[0m     )\n",
      "File \u001B[1;32mD:\\Software\\miniconda3\\envs\\demo\\lib\\site-packages\\pandas\\io\\sql.py:1948\u001B[0m, in \u001B[0;36mSQLDatabase.to_sql\u001B[1;34m(self, frame, name, if_exists, index, index_label, schema, chunksize, dtype, method, engine, **engine_kwargs)\u001B[0m\n\u001B[0;32m   1898\u001B[0m \u001B[38;5;250m\u001B[39m\u001B[38;5;124;03m\"\"\"\u001B[39;00m\n\u001B[0;32m   1899\u001B[0m \u001B[38;5;124;03mWrite records stored in a DataFrame to a SQL database.\u001B[39;00m\n\u001B[0;32m   1900\u001B[0m \n\u001B[1;32m   (...)\u001B[0m\n\u001B[0;32m   1944\u001B[0m \u001B[38;5;124;03m    Any additional kwargs are passed to the engine.\u001B[39;00m\n\u001B[0;32m   1945\u001B[0m \u001B[38;5;124;03m\"\"\"\u001B[39;00m\n\u001B[0;32m   1946\u001B[0m sql_engine \u001B[38;5;241m=\u001B[39m get_engine(engine)\n\u001B[1;32m-> 1948\u001B[0m table \u001B[38;5;241m=\u001B[39m \u001B[38;5;28;43mself\u001B[39;49m\u001B[38;5;241;43m.\u001B[39;49m\u001B[43mprep_table\u001B[49m\u001B[43m(\u001B[49m\n\u001B[0;32m   1949\u001B[0m \u001B[43m    \u001B[49m\u001B[43mframe\u001B[49m\u001B[38;5;241;43m=\u001B[39;49m\u001B[43mframe\u001B[49m\u001B[43m,\u001B[49m\n\u001B[0;32m   1950\u001B[0m \u001B[43m    \u001B[49m\u001B[43mname\u001B[49m\u001B[38;5;241;43m=\u001B[39;49m\u001B[43mname\u001B[49m\u001B[43m,\u001B[49m\n\u001B[0;32m   1951\u001B[0m \u001B[43m    \u001B[49m\u001B[43mif_exists\u001B[49m\u001B[38;5;241;43m=\u001B[39;49m\u001B[43mif_exists\u001B[49m\u001B[43m,\u001B[49m\n\u001B[0;32m   1952\u001B[0m \u001B[43m    \u001B[49m\u001B[43mindex\u001B[49m\u001B[38;5;241;43m=\u001B[39;49m\u001B[43mindex\u001B[49m\u001B[43m,\u001B[49m\n\u001B[0;32m   1953\u001B[0m \u001B[43m    \u001B[49m\u001B[43mindex_label\u001B[49m\u001B[38;5;241;43m=\u001B[39;49m\u001B[43mindex_label\u001B[49m\u001B[43m,\u001B[49m\n\u001B[0;32m   1954\u001B[0m \u001B[43m    \u001B[49m\u001B[43mschema\u001B[49m\u001B[38;5;241;43m=\u001B[39;49m\u001B[43mschema\u001B[49m\u001B[43m,\u001B[49m\n\u001B[0;32m   1955\u001B[0m \u001B[43m    \u001B[49m\u001B[43mdtype\u001B[49m\u001B[38;5;241;43m=\u001B[39;49m\u001B[43mdtype\u001B[49m\u001B[43m,\u001B[49m\n\u001B[0;32m   1956\u001B[0m \u001B[43m\u001B[49m\u001B[43m)\u001B[49m\n\u001B[0;32m   1958\u001B[0m total_inserted \u001B[38;5;241m=\u001B[39m sql_engine\u001B[38;5;241m.\u001B[39minsert_records(\n\u001B[0;32m   1959\u001B[0m     table\u001B[38;5;241m=\u001B[39mtable,\n\u001B[0;32m   1960\u001B[0m     con\u001B[38;5;241m=\u001B[39m\u001B[38;5;28mself\u001B[39m\u001B[38;5;241m.\u001B[39mcon,\n\u001B[1;32m   (...)\u001B[0m\n\u001B[0;32m   1967\u001B[0m     \u001B[38;5;241m*\u001B[39m\u001B[38;5;241m*\u001B[39mengine_kwargs,\n\u001B[0;32m   1968\u001B[0m )\n\u001B[0;32m   1970\u001B[0m \u001B[38;5;28mself\u001B[39m\u001B[38;5;241m.\u001B[39mcheck_case_sensitive(name\u001B[38;5;241m=\u001B[39mname, schema\u001B[38;5;241m=\u001B[39mschema)\n",
      "File \u001B[1;32mD:\\Software\\miniconda3\\envs\\demo\\lib\\site-packages\\pandas\\io\\sql.py:1852\u001B[0m, in \u001B[0;36mSQLDatabase.prep_table\u001B[1;34m(self, frame, name, if_exists, index, index_label, schema, dtype)\u001B[0m\n\u001B[0;32m   1840\u001B[0m             \u001B[38;5;28;01mraise\u001B[39;00m \u001B[38;5;167;01mValueError\u001B[39;00m(\u001B[38;5;124mf\u001B[39m\u001B[38;5;124m\"\u001B[39m\u001B[38;5;124mThe type of \u001B[39m\u001B[38;5;132;01m{\u001B[39;00mcol\u001B[38;5;132;01m}\u001B[39;00m\u001B[38;5;124m is not a SQLAlchemy type\u001B[39m\u001B[38;5;124m\"\u001B[39m)\n\u001B[0;32m   1842\u001B[0m table \u001B[38;5;241m=\u001B[39m SQLTable(\n\u001B[0;32m   1843\u001B[0m     name,\n\u001B[0;32m   1844\u001B[0m     \u001B[38;5;28mself\u001B[39m,\n\u001B[1;32m   (...)\u001B[0m\n\u001B[0;32m   1850\u001B[0m     dtype\u001B[38;5;241m=\u001B[39mdtype,\n\u001B[0;32m   1851\u001B[0m )\n\u001B[1;32m-> 1852\u001B[0m \u001B[43mtable\u001B[49m\u001B[38;5;241;43m.\u001B[39;49m\u001B[43mcreate\u001B[49m\u001B[43m(\u001B[49m\u001B[43m)\u001B[49m\n\u001B[0;32m   1853\u001B[0m \u001B[38;5;28;01mreturn\u001B[39;00m table\n",
      "File \u001B[1;32mD:\\Software\\miniconda3\\envs\\demo\\lib\\site-packages\\pandas\\io\\sql.py:927\u001B[0m, in \u001B[0;36mSQLTable.create\u001B[1;34m(self)\u001B[0m\n\u001B[0;32m    925\u001B[0m \u001B[38;5;28;01mif\u001B[39;00m \u001B[38;5;28mself\u001B[39m\u001B[38;5;241m.\u001B[39mexists():\n\u001B[0;32m    926\u001B[0m     \u001B[38;5;28;01mif\u001B[39;00m \u001B[38;5;28mself\u001B[39m\u001B[38;5;241m.\u001B[39mif_exists \u001B[38;5;241m==\u001B[39m \u001B[38;5;124m\"\u001B[39m\u001B[38;5;124mfail\u001B[39m\u001B[38;5;124m\"\u001B[39m:\n\u001B[1;32m--> 927\u001B[0m         \u001B[38;5;28;01mraise\u001B[39;00m \u001B[38;5;167;01mValueError\u001B[39;00m(\u001B[38;5;124mf\u001B[39m\u001B[38;5;124m\"\u001B[39m\u001B[38;5;124mTable \u001B[39m\u001B[38;5;124m'\u001B[39m\u001B[38;5;132;01m{\u001B[39;00m\u001B[38;5;28mself\u001B[39m\u001B[38;5;241m.\u001B[39mname\u001B[38;5;132;01m}\u001B[39;00m\u001B[38;5;124m'\u001B[39m\u001B[38;5;124m already exists.\u001B[39m\u001B[38;5;124m\"\u001B[39m)\n\u001B[0;32m    928\u001B[0m     \u001B[38;5;28;01mif\u001B[39;00m \u001B[38;5;28mself\u001B[39m\u001B[38;5;241m.\u001B[39mif_exists \u001B[38;5;241m==\u001B[39m \u001B[38;5;124m\"\u001B[39m\u001B[38;5;124mreplace\u001B[39m\u001B[38;5;124m\"\u001B[39m:\n\u001B[0;32m    929\u001B[0m         \u001B[38;5;28mself\u001B[39m\u001B[38;5;241m.\u001B[39mpd_sql\u001B[38;5;241m.\u001B[39mdrop_table(\u001B[38;5;28mself\u001B[39m\u001B[38;5;241m.\u001B[39mname, \u001B[38;5;28mself\u001B[39m\u001B[38;5;241m.\u001B[39mschema)\n",
      "\u001B[1;31mValueError\u001B[0m: Table 'items' already exists."
     ]
    }
   ],
   "source": [
    "from sqlalchemy import create_engine\n",
    "\n",
    "engine = create_engine('sqlite:///database.db', echo=False)\n",
    "\n",
    "with engine.connect() as conn:\n",
    "    data_1.to_sql(name='items', con=conn, if_exists=\"replace\")\n",
    "    data_3.to_sql(name='items', con=conn, if_exists=\"append\")"
   ],
   "metadata": {
    "collapsed": false,
    "ExecuteTime": {
     "end_time": "2023-10-24T17:38:51.886676700Z",
     "start_time": "2023-10-24T17:38:51.803237300Z"
    }
   },
   "id": "9dd924937eba2c45"
  },
  {
   "cell_type": "markdown",
   "source": [
    "4. 处理成功的csv文件，将文件重命名为： 原文件名称.COMPLETED；处理失败的csv文件，将文件重命名为： 原文件名称.FAILED"
   ],
   "metadata": {
    "collapsed": false
   },
   "id": "53df23028d6dff85"
  },
  {
   "cell_type": "code",
   "execution_count": null,
   "outputs": [],
   "source": [
    "# 文件重命名\n",
    "os.rename(\"JD_00001_导出SPU_2023_09_12_0.csv\", \"JD_00001_导出SPU_2023_09_12_0.csv.COMPLETED\")\n",
    "\n",
    "os.rename(\"JD_00001_导出SPU_2023_09_13.csv\", \"JD_00001_导出SPU_2023_09_13.csv.FAILED\")\n",
    "\n",
    "os.rename(\"JD_00001_导出SPU_2023_09_12_0.csv\", \"JD_00001_导出SPU_2023_09_12_0.csv.COMPLETED\")"
   ],
   "metadata": {
    "collapsed": false
   },
   "id": "32b35554e8b29b"
  },
  {
   "cell_type": "code",
   "execution_count": null,
   "outputs": [],
   "source": [],
   "metadata": {
    "collapsed": false
   },
   "id": "df0e0cf08d9b14ea"
  },
  {
   "cell_type": "code",
   "execution_count": null,
   "outputs": [],
   "source": [],
   "metadata": {
    "collapsed": false
   },
   "id": "1390c564b7b27783"
  },
  {
   "cell_type": "code",
   "execution_count": null,
   "outputs": [],
   "source": [],
   "metadata": {
    "collapsed": false
   },
   "id": "3df546e9ceb2950d"
  },
  {
   "cell_type": "code",
   "execution_count": null,
   "outputs": [],
   "source": [],
   "metadata": {
    "collapsed": false
   },
   "id": "54a56c71c220b657"
  },
  {
   "cell_type": "code",
   "execution_count": null,
   "outputs": [],
   "source": [],
   "metadata": {
    "collapsed": false
   },
   "id": "3f996d3de4723991"
  },
  {
   "cell_type": "code",
   "execution_count": null,
   "outputs": [],
   "source": [],
   "metadata": {
    "collapsed": false
   },
   "id": "344adabedb46e1dc"
  },
  {
   "cell_type": "code",
   "execution_count": 12,
   "outputs": [
    {
     "name": "stdout",
     "output_type": "stream",
     "text": [
      "JD_00001\n",
      "JD_00001_导出SPU_2023_09_12_0.csv符合条件\n",
      "JD_00001\n",
      "JD_00001_导出SPU_2023_09_13.csv符合条件\n",
      "XD_00001\n",
      "XD_00001_导出.csv不符合条件\n"
     ]
    }
   ],
   "source": [
    "from pandas.io.sql import get_schema\n",
    "import pandas as pd\n",
    "\n",
    "import re\n",
    "import os\n",
    "\n",
    "with open(\"./item/column_mapping.propties\", \"r\", encoding=\"utf-8\") as f:\n",
    "    property_list = {data.split(\"=\")[0]: data.split(\"=\")[1] for data in f.read().split(\"\\n\")}\n",
    "\n",
    "engine = create_engine('sqlite:///database.db', echo=False)\n",
    "\n",
    "\n",
    "def generate_insert_statement(source: pd.DataFrame, target: str) -> list[str]:\n",
    "    \"\"\"\n",
    "    生成insert语句\n",
    "    :param source:数据源 \n",
    "    :param target: 需要插入的表\n",
    "    :return: 插入列表\n",
    "    \"\"\"\n",
    "    sql_list = []\n",
    "    for data in source.iterrows():\n",
    "        sql_list.append(\n",
    "            f\"INSERT INTO  {target} ({','.join(source.columns)}) VALUES ({','.join(data.values)})\"\n",
    "        )\n",
    "\n",
    "def generate_create_table_statement(source: pd.DataFrame, target: str) -> str:\n",
    "    \"\"\"\n",
    "    生成建表语句\n",
    "    :param source: 数据源 \n",
    "    :param target: 数据表名\n",
    "    :return: \n",
    "    \"\"\"\n",
    "    return get_schema(source.reset_index(), target)\n",
    "\n",
    "for filename in os.listdir(\"./item\"):\n",
    "    if not filename.endswith(\".csv\"):\n",
    "        continue\n",
    "\n",
    "    match_result = re.match(\"^([A-Z]+_(\\d+))_(.*?).csv$\", filename)\n",
    "\n",
    "    if match_result[1].startswith(\"JD_\"):\n",
    "        print(f\"{filename}符合条件\")\n",
    "    else:\n",
    "        print(f\"{filename}不符合条件\")\n",
    "\n",
    "    # 读取文件\n",
    "    try:\n",
    "        tmp_data = pd.read_csv(f\"./item/{filename}\", encoding='gbk')\n",
    "    except Exception as e:\n",
    "        os.rename(filename, filename + \".FAILED\")\n",
    "        print(f\"读取文件：{filename}出错，错误原因：{e}\")\n",
    "        continue\n",
    "\n",
    "    result = list(filter(lambda x: x not in tmp_data.columns, property_list.keys()))\n",
    "    if len(result) > 0:\n",
    "        print(f\"{filename}存在{len(result)}列不在数据内，数据是：{','.join([property_list['r'] for r in result])}\")\n",
    "    else:\n",
    "        print(f\"{filename}所有列都在文件内\")\n",
    "\n",
    "    # 建表\n",
    "    # 添加store_code列\n",
    "    tmp_data['store_code'] = match_result[1]\n",
    "\n",
    "    tmp_data.rename(property_list)\n",
    "\n",
    "    # with engine.connect() as conn:\n",
    "    #     conn.execute(generate_create_table_statement(tmp_data, \"items\"))\n",
    "    #     conn.execute(generate_insert_statement(tmp_data, \"items\"))\n",
    "\n",
    "    # 生成insert语句\n",
    "    with engine.connect() as conn:\n",
    "        tmp_data.to_sql(name='items', con=conn, if_exists=\"append\")\n",
    "\n",
    "    os.rename(filename, filename + \".COMPLETED\")\n"
   ],
   "metadata": {
    "collapsed": false,
    "ExecuteTime": {
     "end_time": "2023-10-24T17:52:30.564259800Z",
     "start_time": "2023-10-24T17:52:30.539262800Z"
    }
   },
   "id": "dcdc7d2833785848"
  },
  {
   "cell_type": "code",
   "execution_count": null,
   "outputs": [],
   "source": [
    "\n"
   ],
   "metadata": {
    "collapsed": false
   },
   "id": "a01edea1900fa9c7"
  }
 ],
 "metadata": {
  "kernelspec": {
   "display_name": "Python 3",
   "language": "python",
   "name": "python3"
  },
  "language_info": {
   "codemirror_mode": {
    "name": "ipython",
    "version": 2
   },
   "file_extension": ".py",
   "mimetype": "text/x-python",
   "name": "python",
   "nbconvert_exporter": "python",
   "pygments_lexer": "ipython2",
   "version": "2.7.6"
  }
 },
 "nbformat": 4,
 "nbformat_minor": 5
}
